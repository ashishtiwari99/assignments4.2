{
 "cells": [
  {
   "cell_type": "code",
   "execution_count": 33,
   "id": "a9f43e4c-ad7b-4e1b-8d3f-fab20aeec8bc",
   "metadata": {},
   "outputs": [],
   "source": [
    "#Class -is a user definded layout or blueprint of an object that describes what a specific kind of object will look like.\n",
    "#object-  An object is a single instance of a class, which contains data and methods working on that data .\n",
    "\n",
    "#let's understands with exampals\n",
    "\n",
    "class car :\n",
    "    \n",
    "    def __init__(self , car_name , model , speed):\n",
    "        \n",
    "        self.car_name = car_name\n",
    "        self.model = model\n",
    "        self.speed = speed\n",
    "        \n",
    "    def car_details(self):\n",
    "        print(self.car_name , self.model , self.speed )"
   ]
  },
  {
   "cell_type": "code",
   "execution_count": 34,
   "id": "d1b93279-bca5-416d-bda8-23898ccd0dde",
   "metadata": {},
   "outputs": [],
   "source": [
    "c = car(\"Triber\" , \"Rxz\" , 120)"
   ]
  },
  {
   "cell_type": "code",
   "execution_count": 35,
   "id": "8bf5ab8d-0217-4fa7-93f8-fb06ca30412e",
   "metadata": {},
   "outputs": [
    {
     "data": {
      "text/plain": [
       "'Triber'"
      ]
     },
     "execution_count": 35,
     "metadata": {},
     "output_type": "execute_result"
    }
   ],
   "source": [
    "c.car_name"
   ]
  },
  {
   "cell_type": "code",
   "execution_count": 36,
   "id": "c91105d2-cda0-400c-84b1-cf6cda9b65e5",
   "metadata": {},
   "outputs": [
    {
     "data": {
      "text/plain": [
       "'Rxz'"
      ]
     },
     "execution_count": 36,
     "metadata": {},
     "output_type": "execute_result"
    }
   ],
   "source": [
    "c.model"
   ]
  },
  {
   "cell_type": "code",
   "execution_count": 37,
   "id": "495e3516-469a-47a7-b7c5-6b24daaa5231",
   "metadata": {},
   "outputs": [
    {
     "data": {
      "text/plain": [
       "120"
      ]
     },
     "execution_count": 37,
     "metadata": {},
     "output_type": "execute_result"
    }
   ],
   "source": [
    "c.speed"
   ]
  },
  {
   "cell_type": "code",
   "execution_count": 38,
   "id": "41594da2-29ac-4b82-a517-61ec8be206dc",
   "metadata": {},
   "outputs": [
    {
     "name": "stdout",
     "output_type": "stream",
     "text": [
      "Triber Rxz 120\n"
     ]
    }
   ],
   "source": [
    "c.car_details()"
   ]
  },
  {
   "cell_type": "code",
   "execution_count": 39,
   "id": "f8e9f833-a84f-4e24-84ef-c7a59f4a02bb",
   "metadata": {},
   "outputs": [],
   "source": [
    "#four pillars of oops\n",
    "#abstraction, Encapsulation ,Inheritance , polymorphism \n",
    "\n",
    "#lets understands with exampls\n",
    "\n",
    "class pillars_of_oops :\n",
    "    \n",
    "    def __init__(self, pillars_name) :\n",
    "        \n",
    "        self.pillars_name = pillars_name\n",
    "        \n",
    "    def pillars_details(self):\n",
    "        print(self.pillars_name)\n"
   ]
  },
  {
   "cell_type": "code",
   "execution_count": 40,
   "id": "29443249-b6d8-409e-86f4-2a394643953a",
   "metadata": {},
   "outputs": [],
   "source": [
    "p = pillars_of_oops(\" Abstraction, Encapsulation , Inheritance , polymorphism\")"
   ]
  },
  {
   "cell_type": "code",
   "execution_count": 41,
   "id": "6f05f3b4-f6f3-4310-a84c-bd0d1dab6b01",
   "metadata": {},
   "outputs": [
    {
     "data": {
      "text/plain": [
       "' Abstraction, Encapsulation , Inheritance , polymorphism'"
      ]
     },
     "execution_count": 41,
     "metadata": {},
     "output_type": "execute_result"
    }
   ],
   "source": [
    "p.pillars_name"
   ]
  },
  {
   "cell_type": "code",
   "execution_count": 42,
   "id": "1a231b42-0e8d-438e-8b26-a02b578fd37f",
   "metadata": {},
   "outputs": [],
   "source": [
    "#__init__ is used to pass some input in class\n",
    "\n",
    "#let's understands with exampls\n",
    "\n",
    "class Person :\n",
    "    \n",
    "    # init   method or constractor \n",
    "    def __init__ (self, name):\n",
    "        self.name = name \n",
    "        \n",
    "    #sample method \n",
    "    def say_hi(self) :\n",
    "        print('Hello , my name is ', self.name) \n",
    "    "
   ]
  },
  {
   "cell_type": "code",
   "execution_count": 43,
   "id": "6f5536c0-f992-4d83-acb7-26fb774b7cd3",
   "metadata": {},
   "outputs": [],
   "source": [
    "p = Person('nikhil')"
   ]
  },
  {
   "cell_type": "code",
   "execution_count": 44,
   "id": "2b7d2b2f-2a41-49f5-9dcf-a1c56db9755d",
   "metadata": {},
   "outputs": [
    {
     "name": "stdout",
     "output_type": "stream",
     "text": [
      "Hello , my name is  nikhil\n"
     ]
    }
   ],
   "source": [
    "p.say_hi()"
   ]
  },
  {
   "cell_type": "code",
   "execution_count": 45,
   "id": "eabc296c-60ff-461d-91b3-c66aadf8a0ff",
   "metadata": {},
   "outputs": [],
   "source": [
    "#Self represents the instance of the class. by using the \"self\" we can access the attributes and methods of the class in python.it binds the attributes with the given arguments. The reason you need to use self. is because Python does not use the @ syntax to refer to instance attributes."
   ]
  },
  {
   "cell_type": "code",
   "execution_count": 2,
   "id": "c27f7178-e15e-452e-a3a3-fda69aed01ee",
   "metadata": {},
   "outputs": [],
   "source": [
    "#Inheritance is the property of class in which a class inherit properties of different type of inheritances are :\n",
    "    \n",
    "    #1. Single inheritance :Single inheritance enables a derived class to inherit properties from a single parents class.\n",
    "    \n",
    "    #examples of single inherotance\n",
    "    \n",
    "    \n",
    "# Base class\n",
    "class Parent:\n",
    "    def func1(self):\n",
    "        print(\"This function is in parent class.\")\n",
    " \n",
    " # Derived class\n",
    " \n",
    " \n",
    "class Child(Parent):\n",
    "    def func2(self):\n",
    "        print(\"This function is in child class.\")\n",
    " \n",
    "     \n",
    "    \n",
    "   \n",
    "    \n",
    "    "
   ]
  },
  {
   "cell_type": "code",
   "execution_count": 4,
   "id": "c81c9e8a-09c9-4492-aadf-9ae0fd9766b2",
   "metadata": {},
   "outputs": [
    {
     "name": "stdout",
     "output_type": "stream",
     "text": [
      "This function is in parent class.\n",
      "This function is in child class.\n"
     ]
    }
   ],
   "source": [
    "# Driver's code\n",
    "object = Child()\n",
    "object.func1()\n",
    "object.func2()\n",
    "\n"
   ]
  },
  {
   "cell_type": "code",
   "execution_count": 5,
   "id": "45688de0-68ac-448f-8d99-49af0d766f65",
   "metadata": {},
   "outputs": [],
   "source": [
    "#2.Multiple Inheritance:When a class can be derived from more than one base class this type of inheritance is called multiple inheritances. In multiple inheritances, all the features of the base classes are inherited into the derived class.\n",
    "\n",
    "\n",
    "# example of multiple inheritance\n",
    "\n",
    "# Python program to demonstrate\n",
    "# multiple inheritance\n",
    " \n",
    "# Base class1\n",
    "class Mother:\n",
    "    mothername = \"\"\n",
    " \n",
    "    def mother(self):\n",
    "        print(self.mothername)\n",
    " \n",
    " # Base class2\n",
    " \n",
    " \n",
    "class Father:\n",
    "    fathername = \"\"\n",
    " \n",
    "    def father(self):\n",
    "        print(self.fathername)\n",
    " \n",
    " # Derived class\n",
    " \n",
    " \n",
    "class Son(Mother, Father):\n",
    "    def parents(self):\n",
    "        print(\"Father :\", self.fathername)\n",
    "        print(\"Mother :\", self.mothername)\n",
    " \n"
   ]
  },
  {
   "cell_type": "code",
   "execution_count": 6,
   "id": "2d82ce7b-9e18-43e2-b0a3-f194b95eedb9",
   "metadata": {},
   "outputs": [
    {
     "name": "stdout",
     "output_type": "stream",
     "text": [
      "Father : RAM\n",
      "Mother : SITA\n"
     ]
    }
   ],
   "source": [
    "# Driver's code\n",
    "s1 = Son()\n",
    "s1.fathername = \"RAM\"\n",
    "s1.mothername = \"SITA\"\n",
    "s1.parents()"
   ]
  },
  {
   "cell_type": "code",
   "execution_count": 8,
   "id": "f81aeab2-9188-4c12-b37e-46e5d24e07d3",
   "metadata": {},
   "outputs": [],
   "source": [
    "#3.Multilevel Inheritance :In multilevel inheritance, features of the base class and the derived class are further inherited into the new derived class. This is similar to a relationship representing a child and a grandfather. \n",
    "\n",
    "# example of multilevel inheritance\n",
    "\n",
    "\n",
    " # Base class\n",
    " \n",
    " \n",
    "class  Grandfather:\n",
    " \n",
    "    def __init__(self, grandfathername):\n",
    "        self.grandfathername = grandfathername\n",
    " \n",
    " # Intermediate class\n",
    " \n",
    " \n",
    "class Father(Grandfather):\n",
    "    def __init__(self, fathername, grandfathername):\n",
    "        self.fathername = fathername\n",
    " \n",
    "        # invoking constructor of Grandfather class\n",
    "        Grandfather.__init__(self, grandfathername)\n",
    " \n",
    " # Derived class\n",
    " \n",
    " \n",
    "class Son(Father):\n",
    "    def __init__(self, sonname, fathername, grandfathername):\n",
    "        self.sonname = sonname\n",
    " \n",
    "        # invoking constructor of Father class\n",
    "        Father.__init__(self, fathername, grandfathername)\n",
    " \n",
    "    def print_name(self):\n",
    "        print('Grandfather name :', self.grandfathername)\n",
    "        print(\"Father name :\", self.fathername)\n",
    "        print(\"Son name :\", self.sonname)\n",
    " \n",
    " \n"
   ]
  },
  {
   "cell_type": "code",
   "execution_count": 9,
   "id": "4322161d-67e9-4372-917e-e9580e77422e",
   "metadata": {},
   "outputs": [
    {
     "name": "stdout",
     "output_type": "stream",
     "text": [
      "Lal mani\n",
      "Grandfather name : Lal mani\n",
      "Father name : Rampal\n",
      "Son name : Prince\n"
     ]
    }
   ],
   "source": [
    "#  Driver code\n",
    "s1 = Son('Prince', 'Rampal', 'Lal mani')\n",
    "print(s1.grandfathername)\n",
    "s1.print_name()"
   ]
  },
  {
   "cell_type": "code",
   "execution_count": null,
   "id": "3010906b-e20e-450e-bb10-7c7ca960e24a",
   "metadata": {},
   "outputs": [],
   "source": []
  }
 ],
 "metadata": {
  "kernelspec": {
   "display_name": "Python 3 (ipykernel)",
   "language": "python",
   "name": "python3"
  },
  "language_info": {
   "codemirror_mode": {
    "name": "ipython",
    "version": 3
   },
   "file_extension": ".py",
   "mimetype": "text/x-python",
   "name": "python",
   "nbconvert_exporter": "python",
   "pygments_lexer": "ipython3",
   "version": "3.10.8"
  }
 },
 "nbformat": 4,
 "nbformat_minor": 5
}
